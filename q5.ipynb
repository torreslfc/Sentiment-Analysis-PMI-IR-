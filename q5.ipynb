{
 "cells": [
  {
   "cell_type": "code",
   "execution_count": 21,
   "metadata": {
    "collapsed": false
   },
   "outputs": [],
   "source": [
    "import pandas as pd\n",
    "import numpy as np\n",
    "import random as rd\n",
    "import re, math, functools\n",
    "import nltk\n",
    "import requests\n",
    "from nltk import pos_tag, bigrams\n",
    "from nltk.corpus import stopwords as stp\n",
    "from bs4 import BeautifulSoup\n",
    "from sklearn.metrics import confusion_matrix"
   ]
  },
  {
   "cell_type": "code",
   "execution_count": 14,
   "metadata": {
    "collapsed": true
   },
   "outputs": [],
   "source": [
    "def features_extraction(text, rule_1, rule_2, no_match):\n",
    "    \n",
    "    wc = []\n",
    "    append = wc.append\n",
    "    text = text.lower()\n",
    "    tokens = re.split(\"\\W+\", text)\n",
    "    stopwords = stp.words(\"english\")\n",
    "    remove = tokens.remove\n",
    "    while \"\" in tokens:\n",
    "        remove(\"\")\n",
    "    for token in tokens:\n",
    "        if token in stopwords:\n",
    "            remove(token)\n",
    "    token_pos = pos_tag(tokens)\n",
    "    \n",
    "    for i in xrange(len(token_pos)-1):\n",
    "        if (token_pos[i][1], token_pos[i+1][1]) not in rule_1 and\\\n",
    "            (token_pos[i][1], token_pos[i+1][1]) not in rule_2:\n",
    "                continue\n",
    "        elif (token_pos[i][1], token_pos[i+1][1]) in rule_1:\n",
    "            append((token_pos[i][0], token_pos[i+1][0]))\n",
    "        elif (token_pos[i][1], token_pos[i+1][1]) in rule_2:\n",
    "            try:\n",
    "                if token_pos[i+2] not in no_match:\n",
    "                    append((token_pos[i][0], token_pos[i+1][0]))\n",
    "            except IndexError:\n",
    "                append((token_pos[i][0], token_pos[i+1][0]))\n",
    "        else:\n",
    "            continue\n",
    "\n",
    "    return wc"
   ]
  },
  {
   "cell_type": "code",
   "execution_count": 15,
   "metadata": {
    "collapsed": false
   },
   "outputs": [],
   "source": [
    "def Semantic_Orientation(phrases,positive=\"excellent\", negative=\"poor\", prior = 1,engine=\"google\",distance=10,threshold=None):\n",
    "  \n",
    "    so_positive = 0.01\n",
    "    so_negative = 0.01\n",
    "    so_avg = 0\n",
    "    get = requests.get\n",
    "\n",
    "    engine.lower() == \"google\"\n",
    "    url = \"http://www.google.com/search?q=%s\"\n",
    "    id_pattern = \"resultStats\"\n",
    "    \n",
    "    for phrase in phrases:\n",
    "        term = \"%22{}+{}%22+AROUND({})+%22{}%22\".format(phrase[0], distance, phrase[1], positive)\n",
    "        page = get(url % term)\n",
    "        soup = BeautifulSoup(page.text, \"lxml\")\n",
    "        try:\n",
    "            rtr_pos = int(\"\".join(re.split(\"\\D+\",soup.find(\"div\", id=id_pattern).get_text().encode(\"utf-８\"))))\n",
    "        except AttributeError:\n",
    "            rtr_pos = 0\n",
    "            \n",
    "        # if rtr_pos == None:\n",
    "        #     rtr_pos = 0\n",
    "        \n",
    "        term = \"%22{}+{}%22+AROUND({})+%22{}%22\".format(phrase[0], distance, phrase[1], negative)\n",
    "        page = get(url % term)\n",
    "        soup = BeautifulSoup(page.text, \"lxml\")\n",
    "        try:\n",
    "            rtr_neg = int(\"\".join(re.split(\"\\D+\",soup.find(\"div\", id=id_pattern).get_text().encode(\"utf-８\"))))\n",
    "        except AttributeError:\n",
    "            rtr_neg = 0\n",
    "            \n",
    "        # if rtr_neg == None:\n",
    "         #   rtr_neg =0\n",
    "            \n",
    "        so_positive += rtr_pos\n",
    "        so_negative += rtr_neg\n",
    "        \n",
    "        so_avg += math.log(so_positive/so_negative/prior)\n",
    "    \n",
    "    #if len(phrases)==0:\n",
    "     #   so_avg=0\n",
    "    #else:\n",
    "        so_avg = so_avg*1.0/len(phrases)\n",
    "    \n",
    "    if threshold == None:\n",
    "        return so_avg\n",
    "    else:\n",
    "        return int(so_avg>threshold)"
   ]
  },
  {
   "cell_type": "code",
   "execution_count": 40,
   "metadata": {
    "collapsed": false
   },
   "outputs": [
    {
     "data": {
      "text/html": [
       "<div>\n",
       "<table border=\"1\" class=\"dataframe\">\n",
       "  <thead>\n",
       "    <tr style=\"text-align: right;\">\n",
       "      <th></th>\n",
       "      <th>stars</th>\n",
       "      <th>votes_cool</th>\n",
       "      <th>votes_funny</th>\n",
       "      <th>votes_useful</th>\n",
       "      <th>Cheap</th>\n",
       "      <th>Moderate</th>\n",
       "      <th>Expensive</th>\n",
       "      <th>VeryExpensive</th>\n",
       "      <th>American</th>\n",
       "      <th>Chinese</th>\n",
       "      <th>...</th>\n",
       "      <th>Indian</th>\n",
       "      <th>Italian</th>\n",
       "      <th>Greek</th>\n",
       "      <th>Mediterranean</th>\n",
       "      <th>Mexican</th>\n",
       "      <th>Thai</th>\n",
       "      <th>Vietnamese</th>\n",
       "      <th>Others</th>\n",
       "      <th>Review</th>\n",
       "      <th>Rating_final ( 1 for High, 0 For Low)</th>\n",
       "    </tr>\n",
       "  </thead>\n",
       "  <tbody>\n",
       "    <tr>\n",
       "      <th>0</th>\n",
       "      <td>2</td>\n",
       "      <td>0</td>\n",
       "      <td>0</td>\n",
       "      <td>0</td>\n",
       "      <td>0</td>\n",
       "      <td>1</td>\n",
       "      <td>0</td>\n",
       "      <td>0</td>\n",
       "      <td>1</td>\n",
       "      <td>0</td>\n",
       "      <td>...</td>\n",
       "      <td>0</td>\n",
       "      <td>0</td>\n",
       "      <td>0</td>\n",
       "      <td>0</td>\n",
       "      <td>0</td>\n",
       "      <td>0</td>\n",
       "      <td>0</td>\n",
       "      <td>0</td>\n",
       "      <td>I have been to Windsor twice now  once for hap...</td>\n",
       "      <td>0.0</td>\n",
       "    </tr>\n",
       "    <tr>\n",
       "      <th>1</th>\n",
       "      <td>3</td>\n",
       "      <td>0</td>\n",
       "      <td>1</td>\n",
       "      <td>3</td>\n",
       "      <td>1</td>\n",
       "      <td>0</td>\n",
       "      <td>0</td>\n",
       "      <td>0</td>\n",
       "      <td>0</td>\n",
       "      <td>0</td>\n",
       "      <td>...</td>\n",
       "      <td>0</td>\n",
       "      <td>1</td>\n",
       "      <td>0</td>\n",
       "      <td>0</td>\n",
       "      <td>0</td>\n",
       "      <td>0</td>\n",
       "      <td>0</td>\n",
       "      <td>0</td>\n",
       "      <td>Food is good. Don t take kids though.Kids past...</td>\n",
       "      <td>0.0</td>\n",
       "    </tr>\n",
       "    <tr>\n",
       "      <th>2</th>\n",
       "      <td>1</td>\n",
       "      <td>2</td>\n",
       "      <td>1</td>\n",
       "      <td>2</td>\n",
       "      <td>0</td>\n",
       "      <td>1</td>\n",
       "      <td>0</td>\n",
       "      <td>0</td>\n",
       "      <td>0</td>\n",
       "      <td>0</td>\n",
       "      <td>...</td>\n",
       "      <td>0</td>\n",
       "      <td>1</td>\n",
       "      <td>0</td>\n",
       "      <td>0</td>\n",
       "      <td>0</td>\n",
       "      <td>0</td>\n",
       "      <td>0</td>\n",
       "      <td>0</td>\n",
       "      <td>I usually poke fun at Olive Garden as having b...</td>\n",
       "      <td>0.0</td>\n",
       "    </tr>\n",
       "  </tbody>\n",
       "</table>\n",
       "<p>3 rows × 22 columns</p>\n",
       "</div>"
      ],
      "text/plain": [
       "   stars  votes_cool  votes_funny  votes_useful  Cheap  Moderate  Expensive  \\\n",
       "0      2           0            0             0      0         1          0   \n",
       "1      3           0            1             3      1         0          0   \n",
       "2      1           2            1             2      0         1          0   \n",
       "\n",
       "   VeryExpensive  American  Chinese                  ...                    \\\n",
       "0              0         1        0                  ...                     \n",
       "1              0         0        0                  ...                     \n",
       "2              0         0        0                  ...                     \n",
       "\n",
       "   Indian  Italian  Greek  Mediterranean  Mexican  Thai  Vietnamese  Others  \\\n",
       "0       0        0      0              0        0     0           0       0   \n",
       "1       0        1      0              0        0     0           0       0   \n",
       "2       0        1      0              0        0     0           0       0   \n",
       "\n",
       "                                              Review  \\\n",
       "0  I have been to Windsor twice now  once for hap...   \n",
       "1  Food is good. Don t take kids though.Kids past...   \n",
       "2  I usually poke fun at Olive Garden as having b...   \n",
       "\n",
       "   Rating_final ( 1 for High, 0 For Low)  \n",
       "0                                    0.0  \n",
       "1                                    0.0  \n",
       "2                                    0.0  \n",
       "\n",
       "[3 rows x 22 columns]"
      ]
     },
     "execution_count": 40,
     "metadata": {},
     "output_type": "execute_result"
    }
   ],
   "source": [
    "yelp_data = pd.read_csv('yelp.csv')\n",
    "\n",
    "# Spliting into high and low\n",
    "yelp_data[\"Rating_final ( 1 for High, 0 For Low)\"] = np.where((yelp_data['stars'].isin([4,5])),1.0,0.0)\n",
    "\n",
    "# Take only a random subset of 2000 rows\n",
    "yelp_subset = yelp_data.sample(frac=.1,random_state=91)\n",
    "yelp_subset = yelp_subset.reset_index()\n",
    "yelp_subset = yelp_subset.drop('index',axis=1)\n",
    "yelp_subset[:3]"
   ]
  },
  {
   "cell_type": "code",
   "execution_count": 41,
   "metadata": {
    "collapsed": false
   },
   "outputs": [],
   "source": [
    "# Defining Patters for Feature Extraction\n",
    "rule_1 = [(\"JJ\", \"NN\"), (\"JJ\", \"NNS\"), (\"RB\", \"VB\"), (\"RB\", \"VBD\"), (\"RB\", \"VBN\"), (\"RB\", \"VBG\"),(\"RBR\", \"VB\"), (\"RBR\", \"VBD\"), (\"RBR\", \"VBN\"), (\"RBR\", \"VBG\"),\n",
    "          (\"RBS\", \"VB\"), (\"RBS\", \"VBD\"), (\"RBS\", \"VBN\"), (\"RBS\", \"VBG\")]\n",
    "rule_2 = [(\"RB\", \"JJ\"), (\"RBR\", \"JJ\"), (\"RBS\", \"JJ\"),(\"JJ\", \"JJ\"),(\"NN\", \"JJ\"), (\"NNS\", \"JJ\")]\n",
    "no_match = [\"NN\", \"NNS\"]\n",
    "\n",
    "# Extracting Features\n",
    "\n",
    "features_extract = functools.partial(features_extraction, rule_1=rule_1, rule_2=rule_2, no_match=no_match)\n",
    "features=yelp_subset.Review.map(features_extract)"
   ]
  },
  {
   "cell_type": "code",
   "execution_count": 42,
   "metadata": {
    "collapsed": false
   },
   "outputs": [],
   "source": [
    "# Calling the function that gives Semantic Orientation for a review.\n",
    "\n",
    "Opinion_Orientation = functools.partial(Semantic_Orientation,positive=\"excellent\", negative=\"poor\",prior = 1,engine=\"google\",distance=5,threshold=None)\n",
    "\n",
    "# Mapping the function to our review list ( Sample : 12)\n",
    "\n",
    "prediction = features[:12].map(Opinion_Orientation)"
   ]
  },
  {
   "cell_type": "code",
   "execution_count": 43,
   "metadata": {
    "collapsed": false
   },
   "outputs": [
    {
     "name": "stdout",
     "output_type": "stream",
     "text": [
      "    |      1      0 |\n",
      "    |      .      . |\n",
      "    |      0      0 |\n",
      "----+---------------+\n",
      "1.0 |     <.> 58.3% |\n",
      "0.0 |      . <41.7%>|\n",
      "----+---------------+\n",
      "(row = reference; col = test)\n",
      "\n",
      "The accuracy is: 0.417\n"
     ]
    }
   ],
   "source": [
    "# Checking accuracy\n",
    "y_pred = prediction.tolist()\n",
    "y_true = yelp_subset['Rating_final ( 1 for High, 0 For Low)'][:12].tolist()\n",
    "\n",
    "cm_sk = confusion_matrix(y_true, y_pred)\n",
    "cm = nltk.ConfusionMatrix(y_true, y_pred)\n",
    "\n",
    "\n",
    "print (cm.pretty_format(sort_by_count=True, show_percents=True))\n",
    "if cm_sk[1][1] ==None:\n",
    "    sum_sk[1][1]=0;\n",
    "print 'The accuracy is:',round(float(cm_sk[1][1]+cm_sk[0][0])/float(len(y_pred)),3)\n",
    "\n"
   ]
  },
  {
   "cell_type": "code",
   "execution_count": 44,
   "metadata": {
    "collapsed": false
   },
   "outputs": [
    {
     "data": {
      "text/plain": [
       "[0.0, 0.0, 0.0, 1.0, 1.0, 1.0, 1.0, 0.0, 1.0, 1.0, 0.0, 1.0]"
      ]
     },
     "execution_count": 44,
     "metadata": {},
     "output_type": "execute_result"
    }
   ],
   "source": [
    "y_true"
   ]
  }
 ],
 "metadata": {
  "anaconda-cloud": {},
  "kernelspec": {
   "display_name": "Python [Root]",
   "language": "python",
   "name": "Python [Root]"
  },
  "language_info": {
   "codemirror_mode": {
    "name": "ipython",
    "version": 2
   },
   "file_extension": ".py",
   "mimetype": "text/x-python",
   "name": "python",
   "nbconvert_exporter": "python",
   "pygments_lexer": "ipython2",
   "version": "2.7.12"
  }
 },
 "nbformat": 4,
 "nbformat_minor": 0
}
